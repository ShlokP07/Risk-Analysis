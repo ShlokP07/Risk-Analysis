{
 "cells": [
  {
   "cell_type": "markdown",
   "id": "c650fd83",
   "metadata": {},
   "source": [
    "### Prerequisites"
   ]
  },
  {
   "cell_type": "code",
   "execution_count": null,
   "id": "969d03a8",
   "metadata": {
    "scrolled": true
   },
   "outputs": [],
   "source": [
    "!pip install pandas\n",
    "!pip install numpy\n",
    "!pip install datetime\n",
    "!pip install matplotlib\n",
    "!pip install pandas_datareader"
   ]
  },
  {
   "cell_type": "markdown",
   "id": "fe05214c",
   "metadata": {},
   "source": [
    "### Importing all the necessary libraries"
   ]
  },
  {
   "cell_type": "code",
   "execution_count": 102,
   "id": "8fd87a60",
   "metadata": {},
   "outputs": [],
   "source": [
    "import pandas as pd\n",
    "import numpy as np\n",
    "import datetime as dt\n",
    "import matplotlib.pyplot as plt\n",
    "import pandas_datareader as pdr\n",
    "%matplotlib inline"
   ]
  },
  {
   "cell_type": "markdown",
   "id": "d106db9f",
   "metadata": {},
   "source": [
    "### Taking input of ticker symbols from user"
   ]
  },
  {
   "cell_type": "code",
   "execution_count": 103,
   "id": "d6ad0608",
   "metadata": {},
   "outputs": [
    {
     "name": "stdout",
     "output_type": "stream",
     "text": [
      "Enter number of elements : 10\n",
      "ITC\n",
      "HDFC\n",
      "INFY\n",
      "MARUTI\n",
      "TATAMOTORS\n",
      "JSWSTEEL\n",
      "IPCALAB\n",
      "RELIANCE\n",
      "BHARTIARTL\n",
      "HINDUNILVR\n",
      "['ITC', 'HDFC', 'INFY', 'MARUTI', 'TATAMOTORS', 'JSWSTEEL', 'IPCALAB', 'RELIANCE', 'BHARTIARTL', 'HINDUNILVR']\n"
     ]
    }
   ],
   "source": [
    "# creating an empty list\n",
    "tick = []\n",
    "tickers = []\n",
    "# number of elements as input\n",
    "n = int(input(\"Enter number of elements : \"))\n",
    " \n",
    "# iterating till the range\n",
    "for i in range(0, n):\n",
    "    ele = str(input())\n",
    " \n",
    "    tick.append(ele) # adding the element\n",
    "    \n",
    "t_len = len(tick)\n",
    "print(tick)"
   ]
  },
  {
   "cell_type": "markdown",
   "id": "a240e962",
   "metadata": {},
   "source": [
    "### Start date input and conversion into datetime format"
   ]
  },
  {
   "cell_type": "code",
   "execution_count": 104,
   "id": "dbbc9f32",
   "metadata": {},
   "outputs": [
    {
     "name": "stdout",
     "output_type": "stream",
     "text": [
      "Enter a date in YYYY-MM-DD format2016-1-1\n"
     ]
    }
   ],
   "source": [
    "date_entry = input('Enter a date in YYYY-MM-DD format')\n",
    "year, month, day = map(int, date_entry.split('-'))\n",
    "start = dt.date(year, month, day)"
   ]
  },
  {
   "cell_type": "markdown",
   "id": "8f6c0019",
   "metadata": {},
   "source": [
    "### Appending .NS to each of the ticker values"
   ]
  },
  {
   "cell_type": "code",
   "execution_count": 105,
   "id": "c4df3cdc",
   "metadata": {},
   "outputs": [
    {
     "name": "stdout",
     "output_type": "stream",
     "text": [
      "['ITC.NS', 'HDFC.NS', 'INFY.NS', 'MARUTI.NS', 'TATAMOTORS.NS', 'JSWSTEEL.NS', 'IPCALAB.NS', 'RELIANCE.NS', 'BHARTIARTL.NS', 'HINDUNILVR.NS']\n"
     ]
    }
   ],
   "source": [
    "for t in ticku:\n",
    "    t = t + '.NS'\n",
    "    tickers.append(t)\n",
    "print(tickers)"
   ]
  },
  {
   "cell_type": "markdown",
   "id": "cf54f2e8",
   "metadata": {},
   "source": [
    "### Fetching data from yahoo finance"
   ]
  },
  {
   "cell_type": "code",
   "execution_count": 106,
   "id": "9656c45f",
   "metadata": {},
   "outputs": [
    {
     "data": {
      "text/html": [
       "<div>\n",
       "<style scoped>\n",
       "    .dataframe tbody tr th:only-of-type {\n",
       "        vertical-align: middle;\n",
       "    }\n",
       "\n",
       "    .dataframe tbody tr th {\n",
       "        vertical-align: top;\n",
       "    }\n",
       "\n",
       "    .dataframe thead th {\n",
       "        text-align: right;\n",
       "    }\n",
       "</style>\n",
       "<table border=\"1\" class=\"dataframe\">\n",
       "  <thead>\n",
       "    <tr style=\"text-align: right;\">\n",
       "      <th>Symbols</th>\n",
       "      <th>ITC.NS</th>\n",
       "      <th>HDFC.NS</th>\n",
       "      <th>INFY.NS</th>\n",
       "      <th>MARUTI.NS</th>\n",
       "      <th>TATAMOTORS.NS</th>\n",
       "      <th>JSWSTEEL.NS</th>\n",
       "      <th>IPCALAB.NS</th>\n",
       "      <th>RELIANCE.NS</th>\n",
       "      <th>BHARTIARTL.NS</th>\n",
       "      <th>HINDUNILVR.NS</th>\n",
       "    </tr>\n",
       "    <tr>\n",
       "      <th>Date</th>\n",
       "      <th></th>\n",
       "      <th></th>\n",
       "      <th></th>\n",
       "      <th></th>\n",
       "      <th></th>\n",
       "      <th></th>\n",
       "      <th></th>\n",
       "      <th></th>\n",
       "      <th></th>\n",
       "      <th></th>\n",
       "    </tr>\n",
       "  </thead>\n",
       "  <tbody>\n",
       "    <tr>\n",
       "      <th>2016-01-01</th>\n",
       "      <td>186.151230</td>\n",
       "      <td>1158.533691</td>\n",
       "      <td>472.670319</td>\n",
       "      <td>4352.271973</td>\n",
       "      <td>401.737305</td>\n",
       "      <td>92.119713</td>\n",
       "      <td>731.975403</td>\n",
       "      <td>484.996368</td>\n",
       "      <td>303.169037</td>\n",
       "      <td>781.844055</td>\n",
       "    </tr>\n",
       "    <tr>\n",
       "      <th>2016-01-04</th>\n",
       "      <td>184.787079</td>\n",
       "      <td>1120.098755</td>\n",
       "      <td>461.401520</td>\n",
       "      <td>4297.991699</td>\n",
       "      <td>376.897339</td>\n",
       "      <td>93.707382</td>\n",
       "      <td>721.769287</td>\n",
       "      <td>475.419220</td>\n",
       "      <td>290.971069</td>\n",
       "      <td>784.080566</td>\n",
       "    </tr>\n",
       "    <tr>\n",
       "      <th>2016-01-05</th>\n",
       "      <td>184.645004</td>\n",
       "      <td>1113.378174</td>\n",
       "      <td>459.327301</td>\n",
       "      <td>4285.137695</td>\n",
       "      <td>374.298431</td>\n",
       "      <td>97.151772</td>\n",
       "      <td>702.441895</td>\n",
       "      <td>480.124207</td>\n",
       "      <td>287.988342</td>\n",
       "      <td>773.994141</td>\n",
       "    </tr>\n",
       "    <tr>\n",
       "      <th>2016-01-06</th>\n",
       "      <td>179.103088</td>\n",
       "      <td>1113.286133</td>\n",
       "      <td>457.317322</td>\n",
       "      <td>4204.303223</td>\n",
       "      <td>365.751862</td>\n",
       "      <td>94.918297</td>\n",
       "      <td>705.548157</td>\n",
       "      <td>493.044983</td>\n",
       "      <td>286.875366</td>\n",
       "      <td>769.521545</td>\n",
       "    </tr>\n",
       "    <tr>\n",
       "      <th>2016-01-07</th>\n",
       "      <td>175.976868</td>\n",
       "      <td>1085.806030</td>\n",
       "      <td>449.384338</td>\n",
       "      <td>4004.540283</td>\n",
       "      <td>343.410919</td>\n",
       "      <td>92.061424</td>\n",
       "      <td>681.142334</td>\n",
       "      <td>483.993317</td>\n",
       "      <td>287.008942</td>\n",
       "      <td>748.710083</td>\n",
       "    </tr>\n",
       "    <tr>\n",
       "      <th>...</th>\n",
       "      <td>...</td>\n",
       "      <td>...</td>\n",
       "      <td>...</td>\n",
       "      <td>...</td>\n",
       "      <td>...</td>\n",
       "      <td>...</td>\n",
       "      <td>...</td>\n",
       "      <td>...</td>\n",
       "      <td>...</td>\n",
       "      <td>...</td>\n",
       "    </tr>\n",
       "    <tr>\n",
       "      <th>2021-11-08</th>\n",
       "      <td>229.800003</td>\n",
       "      <td>2979.550049</td>\n",
       "      <td>1737.500000</td>\n",
       "      <td>7684.600098</td>\n",
       "      <td>501.399994</td>\n",
       "      <td>685.849976</td>\n",
       "      <td>2121.000000</td>\n",
       "      <td>2501.949951</td>\n",
       "      <td>709.000000</td>\n",
       "      <td>2431.899902</td>\n",
       "    </tr>\n",
       "    <tr>\n",
       "      <th>2021-11-09</th>\n",
       "      <td>228.750000</td>\n",
       "      <td>2941.600098</td>\n",
       "      <td>1742.500000</td>\n",
       "      <td>7577.549805</td>\n",
       "      <td>509.649994</td>\n",
       "      <td>676.650024</td>\n",
       "      <td>2182.250000</td>\n",
       "      <td>2521.699951</td>\n",
       "      <td>713.200012</td>\n",
       "      <td>2431.149902</td>\n",
       "    </tr>\n",
       "    <tr>\n",
       "      <th>2021-11-10</th>\n",
       "      <td>230.850006</td>\n",
       "      <td>2945.600098</td>\n",
       "      <td>1740.150024</td>\n",
       "      <td>7511.649902</td>\n",
       "      <td>510.750000</td>\n",
       "      <td>662.400024</td>\n",
       "      <td>2210.699951</td>\n",
       "      <td>2549.899902</td>\n",
       "      <td>735.450012</td>\n",
       "      <td>2400.149902</td>\n",
       "    </tr>\n",
       "    <tr>\n",
       "      <th>2021-11-11</th>\n",
       "      <td>230.000000</td>\n",
       "      <td>2908.850098</td>\n",
       "      <td>1733.300049</td>\n",
       "      <td>7453.450195</td>\n",
       "      <td>503.450012</td>\n",
       "      <td>667.400024</td>\n",
       "      <td>2210.000000</td>\n",
       "      <td>2554.550049</td>\n",
       "      <td>728.599976</td>\n",
       "      <td>2376.199951</td>\n",
       "    </tr>\n",
       "    <tr>\n",
       "      <th>2021-11-12</th>\n",
       "      <td>232.899994</td>\n",
       "      <td>2992.649902</td>\n",
       "      <td>1780.199951</td>\n",
       "      <td>7479.850098</td>\n",
       "      <td>507.049988</td>\n",
       "      <td>671.349976</td>\n",
       "      <td>2218.949951</td>\n",
       "      <td>2593.100098</td>\n",
       "      <td>743.500000</td>\n",
       "      <td>2404.949951</td>\n",
       "    </tr>\n",
       "  </tbody>\n",
       "</table>\n",
       "<p>1445 rows × 10 columns</p>\n",
       "</div>"
      ],
      "text/plain": [
       "Symbols         ITC.NS      HDFC.NS      INFY.NS    MARUTI.NS  TATAMOTORS.NS  \\\n",
       "Date                                                                           \n",
       "2016-01-01  186.151230  1158.533691   472.670319  4352.271973     401.737305   \n",
       "2016-01-04  184.787079  1120.098755   461.401520  4297.991699     376.897339   \n",
       "2016-01-05  184.645004  1113.378174   459.327301  4285.137695     374.298431   \n",
       "2016-01-06  179.103088  1113.286133   457.317322  4204.303223     365.751862   \n",
       "2016-01-07  175.976868  1085.806030   449.384338  4004.540283     343.410919   \n",
       "...                ...          ...          ...          ...            ...   \n",
       "2021-11-08  229.800003  2979.550049  1737.500000  7684.600098     501.399994   \n",
       "2021-11-09  228.750000  2941.600098  1742.500000  7577.549805     509.649994   \n",
       "2021-11-10  230.850006  2945.600098  1740.150024  7511.649902     510.750000   \n",
       "2021-11-11  230.000000  2908.850098  1733.300049  7453.450195     503.450012   \n",
       "2021-11-12  232.899994  2992.649902  1780.199951  7479.850098     507.049988   \n",
       "\n",
       "Symbols     JSWSTEEL.NS   IPCALAB.NS  RELIANCE.NS  BHARTIARTL.NS  \\\n",
       "Date                                                               \n",
       "2016-01-01    92.119713   731.975403   484.996368     303.169037   \n",
       "2016-01-04    93.707382   721.769287   475.419220     290.971069   \n",
       "2016-01-05    97.151772   702.441895   480.124207     287.988342   \n",
       "2016-01-06    94.918297   705.548157   493.044983     286.875366   \n",
       "2016-01-07    92.061424   681.142334   483.993317     287.008942   \n",
       "...                 ...          ...          ...            ...   \n",
       "2021-11-08   685.849976  2121.000000  2501.949951     709.000000   \n",
       "2021-11-09   676.650024  2182.250000  2521.699951     713.200012   \n",
       "2021-11-10   662.400024  2210.699951  2549.899902     735.450012   \n",
       "2021-11-11   667.400024  2210.000000  2554.550049     728.599976   \n",
       "2021-11-12   671.349976  2218.949951  2593.100098     743.500000   \n",
       "\n",
       "Symbols     HINDUNILVR.NS  \n",
       "Date                       \n",
       "2016-01-01     781.844055  \n",
       "2016-01-04     784.080566  \n",
       "2016-01-05     773.994141  \n",
       "2016-01-06     769.521545  \n",
       "2016-01-07     748.710083  \n",
       "...                   ...  \n",
       "2021-11-08    2431.899902  \n",
       "2021-11-09    2431.149902  \n",
       "2021-11-10    2400.149902  \n",
       "2021-11-11    2376.199951  \n",
       "2021-11-12    2404.949951  \n",
       "\n",
       "[1445 rows x 10 columns]"
      ]
     },
     "execution_count": 106,
     "metadata": {},
     "output_type": "execute_result"
    }
   ],
   "source": [
    "data = pdr.get_data_yahoo(tickers, start)\n",
    "crop = data['Adj Close']\n",
    "crop"
   ]
  },
  {
   "cell_type": "markdown",
   "id": "3f4d2687",
   "metadata": {},
   "source": [
    "### Calculating daily log returns"
   ]
  },
  {
   "cell_type": "code",
   "execution_count": 107,
   "id": "02d0ea78",
   "metadata": {},
   "outputs": [
    {
     "data": {
      "text/html": [
       "<div>\n",
       "<style scoped>\n",
       "    .dataframe tbody tr th:only-of-type {\n",
       "        vertical-align: middle;\n",
       "    }\n",
       "\n",
       "    .dataframe tbody tr th {\n",
       "        vertical-align: top;\n",
       "    }\n",
       "\n",
       "    .dataframe thead th {\n",
       "        text-align: right;\n",
       "    }\n",
       "</style>\n",
       "<table border=\"1\" class=\"dataframe\">\n",
       "  <thead>\n",
       "    <tr style=\"text-align: right;\">\n",
       "      <th>Symbols</th>\n",
       "      <th>ITC.NS</th>\n",
       "      <th>HDFC.NS</th>\n",
       "      <th>INFY.NS</th>\n",
       "      <th>MARUTI.NS</th>\n",
       "      <th>TATAMOTORS.NS</th>\n",
       "      <th>JSWSTEEL.NS</th>\n",
       "      <th>IPCALAB.NS</th>\n",
       "      <th>RELIANCE.NS</th>\n",
       "      <th>BHARTIARTL.NS</th>\n",
       "      <th>HINDUNILVR.NS</th>\n",
       "    </tr>\n",
       "    <tr>\n",
       "      <th>Date</th>\n",
       "      <th></th>\n",
       "      <th></th>\n",
       "      <th></th>\n",
       "      <th></th>\n",
       "      <th></th>\n",
       "      <th></th>\n",
       "      <th></th>\n",
       "      <th></th>\n",
       "      <th></th>\n",
       "      <th></th>\n",
       "    </tr>\n",
       "  </thead>\n",
       "  <tbody>\n",
       "    <tr>\n",
       "      <th>2016-01-01</th>\n",
       "      <td>NaN</td>\n",
       "      <td>NaN</td>\n",
       "      <td>NaN</td>\n",
       "      <td>NaN</td>\n",
       "      <td>NaN</td>\n",
       "      <td>NaN</td>\n",
       "      <td>NaN</td>\n",
       "      <td>NaN</td>\n",
       "      <td>NaN</td>\n",
       "      <td>NaN</td>\n",
       "    </tr>\n",
       "    <tr>\n",
       "      <th>2016-01-04</th>\n",
       "      <td>-0.007355</td>\n",
       "      <td>-0.033738</td>\n",
       "      <td>-0.024130</td>\n",
       "      <td>-0.012550</td>\n",
       "      <td>-0.063826</td>\n",
       "      <td>0.017088</td>\n",
       "      <td>-0.014041</td>\n",
       "      <td>-0.019944</td>\n",
       "      <td>-0.041067</td>\n",
       "      <td>0.002856</td>\n",
       "    </tr>\n",
       "    <tr>\n",
       "      <th>2016-01-05</th>\n",
       "      <td>-0.000769</td>\n",
       "      <td>-0.006018</td>\n",
       "      <td>-0.004506</td>\n",
       "      <td>-0.002995</td>\n",
       "      <td>-0.006919</td>\n",
       "      <td>0.036097</td>\n",
       "      <td>-0.027143</td>\n",
       "      <td>0.009848</td>\n",
       "      <td>-0.010304</td>\n",
       "      <td>-0.012947</td>\n",
       "    </tr>\n",
       "    <tr>\n",
       "      <th>2016-01-06</th>\n",
       "      <td>-0.030474</td>\n",
       "      <td>-0.000083</td>\n",
       "      <td>-0.004386</td>\n",
       "      <td>-0.019044</td>\n",
       "      <td>-0.023098</td>\n",
       "      <td>-0.023258</td>\n",
       "      <td>0.004412</td>\n",
       "      <td>0.026556</td>\n",
       "      <td>-0.003872</td>\n",
       "      <td>-0.005795</td>\n",
       "    </tr>\n",
       "    <tr>\n",
       "      <th>2016-01-07</th>\n",
       "      <td>-0.017609</td>\n",
       "      <td>-0.024994</td>\n",
       "      <td>-0.017499</td>\n",
       "      <td>-0.048680</td>\n",
       "      <td>-0.063027</td>\n",
       "      <td>-0.030560</td>\n",
       "      <td>-0.035204</td>\n",
       "      <td>-0.018529</td>\n",
       "      <td>0.000466</td>\n",
       "      <td>-0.027417</td>\n",
       "    </tr>\n",
       "    <tr>\n",
       "      <th>...</th>\n",
       "      <td>...</td>\n",
       "      <td>...</td>\n",
       "      <td>...</td>\n",
       "      <td>...</td>\n",
       "      <td>...</td>\n",
       "      <td>...</td>\n",
       "      <td>...</td>\n",
       "      <td>...</td>\n",
       "      <td>...</td>\n",
       "      <td>...</td>\n",
       "    </tr>\n",
       "    <tr>\n",
       "      <th>2021-11-08</th>\n",
       "      <td>0.032507</td>\n",
       "      <td>0.028476</td>\n",
       "      <td>0.020350</td>\n",
       "      <td>-0.006440</td>\n",
       "      <td>0.033462</td>\n",
       "      <td>0.008199</td>\n",
       "      <td>-0.001861</td>\n",
       "      <td>0.007361</td>\n",
       "      <td>0.014062</td>\n",
       "      <td>0.008486</td>\n",
       "    </tr>\n",
       "    <tr>\n",
       "      <th>2021-11-09</th>\n",
       "      <td>-0.004580</td>\n",
       "      <td>-0.012819</td>\n",
       "      <td>0.002874</td>\n",
       "      <td>-0.014028</td>\n",
       "      <td>0.016320</td>\n",
       "      <td>-0.013505</td>\n",
       "      <td>0.028469</td>\n",
       "      <td>0.007863</td>\n",
       "      <td>0.005906</td>\n",
       "      <td>-0.000308</td>\n",
       "    </tr>\n",
       "    <tr>\n",
       "      <th>2021-11-10</th>\n",
       "      <td>0.009138</td>\n",
       "      <td>0.001359</td>\n",
       "      <td>-0.001350</td>\n",
       "      <td>-0.008735</td>\n",
       "      <td>0.002156</td>\n",
       "      <td>-0.021285</td>\n",
       "      <td>0.012953</td>\n",
       "      <td>0.011121</td>\n",
       "      <td>0.030721</td>\n",
       "      <td>-0.012833</td>\n",
       "    </tr>\n",
       "    <tr>\n",
       "      <th>2021-11-11</th>\n",
       "      <td>-0.003689</td>\n",
       "      <td>-0.012555</td>\n",
       "      <td>-0.003944</td>\n",
       "      <td>-0.007778</td>\n",
       "      <td>-0.014396</td>\n",
       "      <td>0.007520</td>\n",
       "      <td>-0.000317</td>\n",
       "      <td>0.001822</td>\n",
       "      <td>-0.009358</td>\n",
       "      <td>-0.010029</td>\n",
       "    </tr>\n",
       "    <tr>\n",
       "      <th>2021-11-12</th>\n",
       "      <td>0.012530</td>\n",
       "      <td>0.028401</td>\n",
       "      <td>0.026699</td>\n",
       "      <td>0.003536</td>\n",
       "      <td>0.007125</td>\n",
       "      <td>0.005901</td>\n",
       "      <td>0.004042</td>\n",
       "      <td>0.014978</td>\n",
       "      <td>0.020244</td>\n",
       "      <td>0.012027</td>\n",
       "    </tr>\n",
       "  </tbody>\n",
       "</table>\n",
       "<p>1445 rows × 10 columns</p>\n",
       "</div>"
      ],
      "text/plain": [
       "Symbols       ITC.NS   HDFC.NS   INFY.NS  MARUTI.NS  TATAMOTORS.NS  \\\n",
       "Date                                                                 \n",
       "2016-01-01       NaN       NaN       NaN        NaN            NaN   \n",
       "2016-01-04 -0.007355 -0.033738 -0.024130  -0.012550      -0.063826   \n",
       "2016-01-05 -0.000769 -0.006018 -0.004506  -0.002995      -0.006919   \n",
       "2016-01-06 -0.030474 -0.000083 -0.004386  -0.019044      -0.023098   \n",
       "2016-01-07 -0.017609 -0.024994 -0.017499  -0.048680      -0.063027   \n",
       "...              ...       ...       ...        ...            ...   \n",
       "2021-11-08  0.032507  0.028476  0.020350  -0.006440       0.033462   \n",
       "2021-11-09 -0.004580 -0.012819  0.002874  -0.014028       0.016320   \n",
       "2021-11-10  0.009138  0.001359 -0.001350  -0.008735       0.002156   \n",
       "2021-11-11 -0.003689 -0.012555 -0.003944  -0.007778      -0.014396   \n",
       "2021-11-12  0.012530  0.028401  0.026699   0.003536       0.007125   \n",
       "\n",
       "Symbols     JSWSTEEL.NS  IPCALAB.NS  RELIANCE.NS  BHARTIARTL.NS  HINDUNILVR.NS  \n",
       "Date                                                                            \n",
       "2016-01-01          NaN         NaN          NaN            NaN            NaN  \n",
       "2016-01-04     0.017088   -0.014041    -0.019944      -0.041067       0.002856  \n",
       "2016-01-05     0.036097   -0.027143     0.009848      -0.010304      -0.012947  \n",
       "2016-01-06    -0.023258    0.004412     0.026556      -0.003872      -0.005795  \n",
       "2016-01-07    -0.030560   -0.035204    -0.018529       0.000466      -0.027417  \n",
       "...                 ...         ...          ...            ...            ...  \n",
       "2021-11-08     0.008199   -0.001861     0.007361       0.014062       0.008486  \n",
       "2021-11-09    -0.013505    0.028469     0.007863       0.005906      -0.000308  \n",
       "2021-11-10    -0.021285    0.012953     0.011121       0.030721      -0.012833  \n",
       "2021-11-11     0.007520   -0.000317     0.001822      -0.009358      -0.010029  \n",
       "2021-11-12     0.005901    0.004042     0.014978       0.020244       0.012027  \n",
       "\n",
       "[1445 rows x 10 columns]"
      ]
     },
     "execution_count": 107,
     "metadata": {},
     "output_type": "execute_result"
    }
   ],
   "source": [
    "log_returns = np.log(crop/crop.shift())\n",
    "log_returns"
   ]
  },
  {
   "cell_type": "markdown",
   "id": "c9d478db",
   "metadata": {},
   "source": [
    "## Performing Monte Carlo Simulation on the given portfolio"
   ]
  },
  {
   "cell_type": "code",
   "execution_count": 108,
   "id": "0d06a9eb",
   "metadata": {},
   "outputs": [],
   "source": [
    "n = 5000\n",
    "weights = np.zeros((n,t_len))\n",
    "exp_rtns = np.zeros(n)\n",
    "exp_vols = np.zeros(n)\n",
    "sharpe_ratios = np.zeros(n)"
   ]
  },
  {
   "cell_type": "markdown",
   "id": "7beaae61",
   "metadata": {},
   "source": [
    "### Calculating Expected Returns, Expected Volatility/Risks and Sharpe Ratios for 5000 different combinations of weights"
   ]
  },
  {
   "attachments": {
    "WhatsApp%20Image%202021-11-14%20at%208.30.27%20PM.jpeg": {
     "image/jpeg": "[encoded data removed]"
    }
   },
   "cell_type": "markdown",
   "id": "fe5503b4",
   "metadata": {},
   "source": [
    "![WhatsApp%20Image%202021-11-14%20at%208.30.27%20PM.jpeg](attachment:WhatsApp%20Image%202021-11-14%20at%208.30.27%20PM.jpeg)"
   ]
  },
  {
   "cell_type": "code",
   "execution_count": 109,
   "id": "0cbc3cfd",
   "metadata": {},
   "outputs": [],
   "source": [
    "for i in range(n):\n",
    "    weight = np.random.random(t_len)\n",
    "    weight /= weight.sum()\n",
    "    weights[i] = weight\n",
    "    exp_rtns[i] = (np.sum(log_returns.mean() * weight)*252) - 0.063\n",
    "    exp_vols[i] = np.sqrt(np.dot(weight.T, np.dot(log_returns.cov()*252, weight)))\n",
    "    sharpe_ratios[i] = exp_rtns[i]/exp_vols[i]"
   ]
  },
  {
   "cell_type": "markdown",
   "id": "9d133846",
   "metadata": {},
   "source": [
    "### Printing out the index of the most efficient sharpe ratio for our portfolio"
   ]
  },
  {
   "cell_type": "code",
   "execution_count": 110,
   "id": "c10616a3",
   "metadata": {},
   "outputs": [
    {
     "data": {
      "text/plain": [
       "652"
      ]
     },
     "execution_count": 110,
     "metadata": {},
     "output_type": "execute_result"
    }
   ],
   "source": [
    "sharpe_ratios.argmax()"
   ]
  },
  {
   "cell_type": "markdown",
   "id": "5d0fd53f",
   "metadata": {},
   "source": [
    "### Plotting the Monte Carlo Simulation of Sharpe Ratios"
   ]
  },
  {
   "cell_type": "code",
   "execution_count": 111,
   "id": "a5d56e67",
   "metadata": {},
   "outputs": [
    {
     "data": {
      "text/plain": [
       "<matplotlib.collections.PathCollection at 0x180ff495af0>"
      ]
     },
     "execution_count": 111,
     "metadata": {},
     "output_type": "execute_result"
    },
    {
     "data": {
      "image/png": "[encoded data removed]",
      "text/plain": [
       "<Figure size 432x288 with 1 Axes>"
      ]
     },
     "metadata": {
      "needs_background": "light"
     },
     "output_type": "display_data"
    }
   ],
   "source": [
    "fig, ax3 = plt.subplots()\n",
    "ax3.scatter(exp_vols, exp_rtns, c=sharpe_ratios)\n",
    "ax3.scatter(exp_vols[sharpe_ratios.argmax()], exp_rtns[sharpe_ratios.argmax()], c='r')"
   ]
  }
 ],
 "metadata": {
  "kernelspec": {
   "display_name": "Python 3",
   "language": "python",
   "name": "python3"
  },
  "language_info": {
   "codemirror_mode": {
    "name": "ipython",
    "version": 3
   },
   "file_extension": ".py",
   "mimetype": "text/x-python",
   "name": "python",
   "nbconvert_exporter": "python",
   "pygments_lexer": "ipython3",
   "version": "3.8.8"
  }
 },
 "nbformat": 4,
 "nbformat_minor": 5
}
