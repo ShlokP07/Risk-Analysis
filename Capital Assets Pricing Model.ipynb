{
 "cells": [
  {
   "cell_type": "markdown",
   "id": "c2c14c5b",
   "metadata": {},
   "source": [
    "# CAPM & Sharpe Ratio"
   ]
  },
  {
   "cell_type": "markdown",
   "id": "49dacb18",
   "metadata": {},
   "source": [
    "## Intalling Requirements \n"
   ]
  },
  {
   "cell_type": "code",
   "execution_count": 1,
   "id": "1c895b2c",
   "metadata": {
    "scrolled": true
   },
   "outputs": [
    {
     "name": "stdout",
     "output_type": "stream",
     "text": [
      "Collecting yfinance\n",
      "  Downloading yfinance-0.1.66-py2.py3-none-any.whl (25 kB)\n",
      "Requirement already satisfied: requests>=2.20 in c:\\users\\shlok\\anaconda3\\lib\\site-packages (from yfinance) (2.25.1)\n",
      "Requirement already satisfied: lxml>=4.5.1 in c:\\users\\shlok\\anaconda3\\lib\\site-packages (from yfinance) (4.6.3)\n",
      "Requirement already satisfied: pandas>=0.24 in c:\\users\\shlok\\anaconda3\\lib\\site-packages (from yfinance) (1.2.4)\n",
      "Requirement already satisfied: numpy>=1.15 in c:\\users\\shlok\\anaconda3\\lib\\site-packages (from yfinance) (1.19.5)\n",
      "Collecting multitasking>=0.0.7\n",
      "  Downloading multitasking-0.0.10.tar.gz (8.2 kB)\n",
      "Requirement already satisfied: pytz>=2017.3 in c:\\users\\shlok\\anaconda3\\lib\\site-packages (from pandas>=0.24->yfinance) (2021.1)\n",
      "Requirement already satisfied: python-dateutil>=2.7.3 in c:\\users\\shlok\\anaconda3\\lib\\site-packages (from pandas>=0.24->yfinance) (2.8.1)\n",
      "Requirement already satisfied: six>=1.5 in c:\\users\\shlok\\anaconda3\\lib\\site-packages (from python-dateutil>=2.7.3->pandas>=0.24->yfinance) (1.15.0)\n",
      "Requirement already satisfied: idna<3,>=2.5 in c:\\users\\shlok\\anaconda3\\lib\\site-packages (from requests>=2.20->yfinance) (2.10)\n",
      "Requirement already satisfied: urllib3<1.27,>=1.21.1 in c:\\users\\shlok\\anaconda3\\lib\\site-packages (from requests>=2.20->yfinance) (1.26.4)\n",
      "Requirement already satisfied: chardet<5,>=3.0.2 in c:\\users\\shlok\\anaconda3\\lib\\site-packages (from requests>=2.20->yfinance) (4.0.0)\n",
      "Requirement already satisfied: certifi>=2017.4.17 in c:\\users\\shlok\\anaconda3\\lib\\site-packages (from requests>=2.20->yfinance) (2020.12.5)\n",
      "Building wheels for collected packages: multitasking\n",
      "  Building wheel for multitasking (setup.py): started\n",
      "  Building wheel for multitasking (setup.py): finished with status 'done'\n",
      "  Created wheel for multitasking: filename=multitasking-0.0.10-py3-none-any.whl size=8488 sha256=eef3d474a359c07fa6b31239a9002a9fc853adff39e715c963f58c5e81e46474\n",
      "  Stored in directory: c:\\users\\shlok\\appdata\\local\\pip\\cache\\wheels\\21\\c9\\66\\b41c847de65c7985db52ec21d59996841598b8b0e93f2b9500\n",
      "Successfully built multitasking\n",
      "Installing collected packages: multitasking, yfinance\n",
      "Successfully installed multitasking-0.0.10 yfinance-0.1.66\n"
     ]
    }
   ],
   "source": [
    "!pip install yfinance"
   ]
  },
  {
   "cell_type": "code",
   "execution_count": 1,
   "id": "091345f9",
   "metadata": {},
   "outputs": [],
   "source": [
    "import pandas as pd\n",
    "import numpy as np\n",
    "import yfinance as yf\n",
    "import datetime as dt\n",
    "import matplotlib.pyplot as plt\n",
    "%matplotlib inline"
   ]
  },
  {
   "cell_type": "markdown",
   "id": "730c6862",
   "metadata": {},
   "source": [
    "## Input of The Portfolio"
   ]
  },
  {
   "cell_type": "code",
   "execution_count": 3,
   "id": "65a90630",
   "metadata": {},
   "outputs": [
    {
     "name": "stdout",
     "output_type": "stream",
     "text": [
      "Enter number of elements : 10\n",
      "ITC\n",
      "HDFC\n",
      "INFY\n",
      "MARUTI\n",
      "TATAMOTORS\n",
      "JSWSTEEL\n",
      "IPCALAB\n",
      "RELIANCE\n",
      "BHARTIARTL\n",
      "HINDUNILVR\n",
      "['ITC', 'HDFC', 'INFY', 'MARUTI', 'TATAMOTORS', 'JSWSTEEL', 'IPCALAB', 'RELIANCE', 'BHARTIARTL', 'HINDUNILVR']\n",
      "['ITC.NS', 'HDFC.NS', 'INFY.NS', 'MARUTI.NS', 'TATAMOTORS.NS', 'JSWSTEEL.NS', 'IPCALAB.NS', 'RELIANCE.NS', 'BHARTIARTL.NS', 'HINDUNILVR.NS', '^NSEI']\n"
     ]
    }
   ],
   "source": [
    "# creating an empty list\n",
    "ticku = []\n",
    "tickers = []\n",
    " \n",
    "# number of elements as input\n",
    "n = int(input(\"Enter number of elements : \"))\n",
    " \n",
    "# iterating till the range\n",
    "for i in range(0, n):\n",
    "    ele = str(input())\n",
    " \n",
    "    ticku.append(ele) # adding the element\n",
    "    \n",
    "print(ticku)\n",
    "t_len = len(ticku)\n",
    "\n",
    "for t in ticku:\n",
    "    t = t + '.NS'\n",
    "    tickers.append(t)\n",
    "\n",
    "tickers.append('^NSEI')\n",
    "print(tickers)"
   ]
  },
  {
   "cell_type": "markdown",
   "id": "1af65891",
   "metadata": {},
   "source": [
    "## Starting Date Input"
   ]
  },
  {
   "cell_type": "code",
   "execution_count": 4,
   "id": "f202186f",
   "metadata": {},
   "outputs": [
    {
     "name": "stdout",
     "output_type": "stream",
     "text": [
      "Enter a date in YYYY-MM-DD format2016-1-1\n"
     ]
    }
   ],
   "source": [
    "date_entry = input('Enter a date in YYYY-MM-DD format')\n",
    "year, month, day = map(int, date_entry.split('-'))\n",
    "start = dt.date(year, month, day)"
   ]
  },
  {
   "cell_type": "markdown",
   "id": "15e3795e",
   "metadata": {},
   "source": [
    "## Downloading Adjusted Close price from Yahoo Finance"
   ]
  },
  {
   "cell_type": "code",
   "execution_count": 6,
   "id": "3f8bf3d1",
   "metadata": {
    "scrolled": true
   },
   "outputs": [
    {
     "name": "stdout",
     "output_type": "stream",
     "text": [
      "[*********************100%***********************]  11 of 11 completed\n"
     ]
    },
    {
     "data": {
      "text/html": [
       "<div>\n",
       "<style scoped>\n",
       "    .dataframe tbody tr th:only-of-type {\n",
       "        vertical-align: middle;\n",
       "    }\n",
       "\n",
       "    .dataframe tbody tr th {\n",
       "        vertical-align: top;\n",
       "    }\n",
       "\n",
       "    .dataframe thead th {\n",
       "        text-align: right;\n",
       "    }\n",
       "</style>\n",
       "<table border=\"1\" class=\"dataframe\">\n",
       "  <thead>\n",
       "    <tr style=\"text-align: right;\">\n",
       "      <th></th>\n",
       "      <th>BHARTIARTL.NS</th>\n",
       "      <th>HDFC.NS</th>\n",
       "      <th>HINDUNILVR.NS</th>\n",
       "      <th>INFY.NS</th>\n",
       "      <th>IPCALAB.NS</th>\n",
       "      <th>ITC.NS</th>\n",
       "      <th>JSWSTEEL.NS</th>\n",
       "      <th>MARUTI.NS</th>\n",
       "      <th>RELIANCE.NS</th>\n",
       "      <th>TATAMOTORS.NS</th>\n",
       "      <th>^NSEI</th>\n",
       "    </tr>\n",
       "    <tr>\n",
       "      <th>Date</th>\n",
       "      <th></th>\n",
       "      <th></th>\n",
       "      <th></th>\n",
       "      <th></th>\n",
       "      <th></th>\n",
       "      <th></th>\n",
       "      <th></th>\n",
       "      <th></th>\n",
       "      <th></th>\n",
       "      <th></th>\n",
       "      <th></th>\n",
       "    </tr>\n",
       "  </thead>\n",
       "  <tbody>\n",
       "    <tr>\n",
       "      <th>2016-01-01</th>\n",
       "      <td>303.169006</td>\n",
       "      <td>1158.533691</td>\n",
       "      <td>781.844116</td>\n",
       "      <td>472.670288</td>\n",
       "      <td>731.975342</td>\n",
       "      <td>186.151245</td>\n",
       "      <td>92.119720</td>\n",
       "      <td>4352.271973</td>\n",
       "      <td>484.996368</td>\n",
       "      <td>401.737305</td>\n",
       "      <td>NaN</td>\n",
       "    </tr>\n",
       "    <tr>\n",
       "      <th>2016-01-04</th>\n",
       "      <td>290.971069</td>\n",
       "      <td>1120.098633</td>\n",
       "      <td>784.080383</td>\n",
       "      <td>461.401520</td>\n",
       "      <td>721.769287</td>\n",
       "      <td>184.787094</td>\n",
       "      <td>93.707375</td>\n",
       "      <td>4297.991211</td>\n",
       "      <td>475.419250</td>\n",
       "      <td>376.897339</td>\n",
       "      <td>7791.299805</td>\n",
       "    </tr>\n",
       "    <tr>\n",
       "      <th>2016-01-05</th>\n",
       "      <td>287.988281</td>\n",
       "      <td>1113.378174</td>\n",
       "      <td>773.994141</td>\n",
       "      <td>459.327362</td>\n",
       "      <td>702.441895</td>\n",
       "      <td>184.645004</td>\n",
       "      <td>97.151787</td>\n",
       "      <td>4285.137207</td>\n",
       "      <td>480.124237</td>\n",
       "      <td>374.298431</td>\n",
       "      <td>7784.649902</td>\n",
       "    </tr>\n",
       "    <tr>\n",
       "      <th>2016-01-06</th>\n",
       "      <td>286.875366</td>\n",
       "      <td>1113.286133</td>\n",
       "      <td>769.521545</td>\n",
       "      <td>457.317383</td>\n",
       "      <td>705.548096</td>\n",
       "      <td>179.103088</td>\n",
       "      <td>94.918297</td>\n",
       "      <td>4204.302734</td>\n",
       "      <td>493.044983</td>\n",
       "      <td>365.751862</td>\n",
       "      <td>7741.000000</td>\n",
       "    </tr>\n",
       "    <tr>\n",
       "      <th>2016-01-07</th>\n",
       "      <td>287.008942</td>\n",
       "      <td>1085.805908</td>\n",
       "      <td>748.710083</td>\n",
       "      <td>449.384277</td>\n",
       "      <td>681.142334</td>\n",
       "      <td>175.976852</td>\n",
       "      <td>92.061424</td>\n",
       "      <td>4004.540283</td>\n",
       "      <td>483.993286</td>\n",
       "      <td>343.410919</td>\n",
       "      <td>7568.299805</td>\n",
       "    </tr>\n",
       "    <tr>\n",
       "      <th>...</th>\n",
       "      <td>...</td>\n",
       "      <td>...</td>\n",
       "      <td>...</td>\n",
       "      <td>...</td>\n",
       "      <td>...</td>\n",
       "      <td>...</td>\n",
       "      <td>...</td>\n",
       "      <td>...</td>\n",
       "      <td>...</td>\n",
       "      <td>...</td>\n",
       "      <td>...</td>\n",
       "    </tr>\n",
       "    <tr>\n",
       "      <th>2021-11-08</th>\n",
       "      <td>709.000000</td>\n",
       "      <td>2979.550049</td>\n",
       "      <td>2431.899902</td>\n",
       "      <td>1737.500000</td>\n",
       "      <td>2121.000000</td>\n",
       "      <td>229.800003</td>\n",
       "      <td>685.849976</td>\n",
       "      <td>7684.600098</td>\n",
       "      <td>2501.949951</td>\n",
       "      <td>501.399994</td>\n",
       "      <td>18068.550781</td>\n",
       "    </tr>\n",
       "    <tr>\n",
       "      <th>2021-11-09</th>\n",
       "      <td>713.200012</td>\n",
       "      <td>2941.600098</td>\n",
       "      <td>2431.149902</td>\n",
       "      <td>1742.500000</td>\n",
       "      <td>2182.250000</td>\n",
       "      <td>228.750000</td>\n",
       "      <td>676.650024</td>\n",
       "      <td>7577.549805</td>\n",
       "      <td>2521.699951</td>\n",
       "      <td>509.649994</td>\n",
       "      <td>18044.250000</td>\n",
       "    </tr>\n",
       "    <tr>\n",
       "      <th>2021-11-10</th>\n",
       "      <td>735.450012</td>\n",
       "      <td>2945.600098</td>\n",
       "      <td>2400.149902</td>\n",
       "      <td>1740.150024</td>\n",
       "      <td>2210.699951</td>\n",
       "      <td>230.850006</td>\n",
       "      <td>662.400024</td>\n",
       "      <td>7511.649902</td>\n",
       "      <td>2549.899902</td>\n",
       "      <td>510.750000</td>\n",
       "      <td>18017.199219</td>\n",
       "    </tr>\n",
       "    <tr>\n",
       "      <th>2021-11-11</th>\n",
       "      <td>728.599976</td>\n",
       "      <td>2908.850098</td>\n",
       "      <td>2376.199951</td>\n",
       "      <td>1733.300049</td>\n",
       "      <td>2210.000000</td>\n",
       "      <td>230.000000</td>\n",
       "      <td>667.400024</td>\n",
       "      <td>7453.450195</td>\n",
       "      <td>2554.550049</td>\n",
       "      <td>503.450012</td>\n",
       "      <td>17873.599609</td>\n",
       "    </tr>\n",
       "    <tr>\n",
       "      <th>2021-11-12</th>\n",
       "      <td>743.500000</td>\n",
       "      <td>2992.649902</td>\n",
       "      <td>2404.949951</td>\n",
       "      <td>1780.199951</td>\n",
       "      <td>2218.949951</td>\n",
       "      <td>232.899994</td>\n",
       "      <td>671.349976</td>\n",
       "      <td>7479.850098</td>\n",
       "      <td>2593.100098</td>\n",
       "      <td>507.049988</td>\n",
       "      <td>18102.750000</td>\n",
       "    </tr>\n",
       "  </tbody>\n",
       "</table>\n",
       "<p>1445 rows × 11 columns</p>\n",
       "</div>"
      ],
      "text/plain": [
       "            BHARTIARTL.NS      HDFC.NS  HINDUNILVR.NS      INFY.NS  \\\n",
       "Date                                                                 \n",
       "2016-01-01     303.169006  1158.533691     781.844116   472.670288   \n",
       "2016-01-04     290.971069  1120.098633     784.080383   461.401520   \n",
       "2016-01-05     287.988281  1113.378174     773.994141   459.327362   \n",
       "2016-01-06     286.875366  1113.286133     769.521545   457.317383   \n",
       "2016-01-07     287.008942  1085.805908     748.710083   449.384277   \n",
       "...                   ...          ...            ...          ...   \n",
       "2021-11-08     709.000000  2979.550049    2431.899902  1737.500000   \n",
       "2021-11-09     713.200012  2941.600098    2431.149902  1742.500000   \n",
       "2021-11-10     735.450012  2945.600098    2400.149902  1740.150024   \n",
       "2021-11-11     728.599976  2908.850098    2376.199951  1733.300049   \n",
       "2021-11-12     743.500000  2992.649902    2404.949951  1780.199951   \n",
       "\n",
       "             IPCALAB.NS      ITC.NS  JSWSTEEL.NS    MARUTI.NS  RELIANCE.NS  \\\n",
       "Date                                                                         \n",
       "2016-01-01   731.975342  186.151245    92.119720  4352.271973   484.996368   \n",
       "2016-01-04   721.769287  184.787094    93.707375  4297.991211   475.419250   \n",
       "2016-01-05   702.441895  184.645004    97.151787  4285.137207   480.124237   \n",
       "2016-01-06   705.548096  179.103088    94.918297  4204.302734   493.044983   \n",
       "2016-01-07   681.142334  175.976852    92.061424  4004.540283   483.993286   \n",
       "...                 ...         ...          ...          ...          ...   \n",
       "2021-11-08  2121.000000  229.800003   685.849976  7684.600098  2501.949951   \n",
       "2021-11-09  2182.250000  228.750000   676.650024  7577.549805  2521.699951   \n",
       "2021-11-10  2210.699951  230.850006   662.400024  7511.649902  2549.899902   \n",
       "2021-11-11  2210.000000  230.000000   667.400024  7453.450195  2554.550049   \n",
       "2021-11-12  2218.949951  232.899994   671.349976  7479.850098  2593.100098   \n",
       "\n",
       "            TATAMOTORS.NS         ^NSEI  \n",
       "Date                                     \n",
       "2016-01-01     401.737305           NaN  \n",
       "2016-01-04     376.897339   7791.299805  \n",
       "2016-01-05     374.298431   7784.649902  \n",
       "2016-01-06     365.751862   7741.000000  \n",
       "2016-01-07     343.410919   7568.299805  \n",
       "...                   ...           ...  \n",
       "2021-11-08     501.399994  18068.550781  \n",
       "2021-11-09     509.649994  18044.250000  \n",
       "2021-11-10     510.750000  18017.199219  \n",
       "2021-11-11     503.450012  17873.599609  \n",
       "2021-11-12     507.049988  18102.750000  \n",
       "\n",
       "[1445 rows x 11 columns]"
      ]
     },
     "execution_count": 6,
     "metadata": {},
     "output_type": "execute_result"
    }
   ],
   "source": [
    "data = yf.download(tickers, start)['Adj Close']\n",
    "data"
   ]
  },
  {
   "cell_type": "markdown",
   "id": "3fc767bd",
   "metadata": {},
   "source": [
    "## Calculating Daily Log Returns"
   ]
  },
  {
   "cell_type": "code",
   "execution_count": 23,
   "id": "bc17d996",
   "metadata": {},
   "outputs": [
    {
     "data": {
      "text/html": [
       "<div>\n",
       "<style scoped>\n",
       "    .dataframe tbody tr th:only-of-type {\n",
       "        vertical-align: middle;\n",
       "    }\n",
       "\n",
       "    .dataframe tbody tr th {\n",
       "        vertical-align: top;\n",
       "    }\n",
       "\n",
       "    .dataframe thead th {\n",
       "        text-align: right;\n",
       "    }\n",
       "</style>\n",
       "<table border=\"1\" class=\"dataframe\">\n",
       "  <thead>\n",
       "    <tr style=\"text-align: right;\">\n",
       "      <th></th>\n",
       "      <th>BHARTIARTL.NS</th>\n",
       "      <th>HDFC.NS</th>\n",
       "      <th>HINDUNILVR.NS</th>\n",
       "      <th>INFY.NS</th>\n",
       "      <th>IPCALAB.NS</th>\n",
       "      <th>ITC.NS</th>\n",
       "      <th>JSWSTEEL.NS</th>\n",
       "      <th>MARUTI.NS</th>\n",
       "      <th>RELIANCE.NS</th>\n",
       "      <th>TATAMOTORS.NS</th>\n",
       "      <th>^NSEI</th>\n",
       "    </tr>\n",
       "    <tr>\n",
       "      <th>Date</th>\n",
       "      <th></th>\n",
       "      <th></th>\n",
       "      <th></th>\n",
       "      <th></th>\n",
       "      <th></th>\n",
       "      <th></th>\n",
       "      <th></th>\n",
       "      <th></th>\n",
       "      <th></th>\n",
       "      <th></th>\n",
       "      <th></th>\n",
       "    </tr>\n",
       "  </thead>\n",
       "  <tbody>\n",
       "    <tr>\n",
       "      <th>2016-01-01</th>\n",
       "      <td>NaN</td>\n",
       "      <td>NaN</td>\n",
       "      <td>NaN</td>\n",
       "      <td>NaN</td>\n",
       "      <td>NaN</td>\n",
       "      <td>NaN</td>\n",
       "      <td>NaN</td>\n",
       "      <td>NaN</td>\n",
       "      <td>NaN</td>\n",
       "      <td>NaN</td>\n",
       "      <td>NaN</td>\n",
       "    </tr>\n",
       "    <tr>\n",
       "      <th>2016-01-04</th>\n",
       "      <td>-0.041067</td>\n",
       "      <td>-0.033738</td>\n",
       "      <td>0.002856</td>\n",
       "      <td>-0.024129</td>\n",
       "      <td>-0.014041</td>\n",
       "      <td>-0.007355</td>\n",
       "      <td>0.017088</td>\n",
       "      <td>-0.012550</td>\n",
       "      <td>-0.019944</td>\n",
       "      <td>-0.063826</td>\n",
       "      <td>NaN</td>\n",
       "    </tr>\n",
       "    <tr>\n",
       "      <th>2016-01-05</th>\n",
       "      <td>-0.010304</td>\n",
       "      <td>-0.006018</td>\n",
       "      <td>-0.012947</td>\n",
       "      <td>-0.004505</td>\n",
       "      <td>-0.027143</td>\n",
       "      <td>-0.000769</td>\n",
       "      <td>0.036098</td>\n",
       "      <td>-0.002995</td>\n",
       "      <td>0.009848</td>\n",
       "      <td>-0.006919</td>\n",
       "      <td>-0.000854</td>\n",
       "    </tr>\n",
       "    <tr>\n",
       "      <th>2016-01-06</th>\n",
       "      <td>-0.003872</td>\n",
       "      <td>-0.000083</td>\n",
       "      <td>-0.005795</td>\n",
       "      <td>-0.004386</td>\n",
       "      <td>0.004412</td>\n",
       "      <td>-0.030474</td>\n",
       "      <td>-0.023258</td>\n",
       "      <td>-0.019044</td>\n",
       "      <td>0.026556</td>\n",
       "      <td>-0.023098</td>\n",
       "      <td>-0.005623</td>\n",
       "    </tr>\n",
       "    <tr>\n",
       "      <th>2016-01-07</th>\n",
       "      <td>0.000466</td>\n",
       "      <td>-0.024994</td>\n",
       "      <td>-0.027417</td>\n",
       "      <td>-0.017499</td>\n",
       "      <td>-0.035204</td>\n",
       "      <td>-0.017609</td>\n",
       "      <td>-0.030560</td>\n",
       "      <td>-0.048680</td>\n",
       "      <td>-0.018529</td>\n",
       "      <td>-0.063027</td>\n",
       "      <td>-0.022562</td>\n",
       "    </tr>\n",
       "    <tr>\n",
       "      <th>...</th>\n",
       "      <td>...</td>\n",
       "      <td>...</td>\n",
       "      <td>...</td>\n",
       "      <td>...</td>\n",
       "      <td>...</td>\n",
       "      <td>...</td>\n",
       "      <td>...</td>\n",
       "      <td>...</td>\n",
       "      <td>...</td>\n",
       "      <td>...</td>\n",
       "      <td>...</td>\n",
       "    </tr>\n",
       "    <tr>\n",
       "      <th>2021-11-08</th>\n",
       "      <td>0.014062</td>\n",
       "      <td>0.028476</td>\n",
       "      <td>0.008486</td>\n",
       "      <td>0.020350</td>\n",
       "      <td>-0.001861</td>\n",
       "      <td>0.032507</td>\n",
       "      <td>0.008199</td>\n",
       "      <td>-0.006440</td>\n",
       "      <td>0.007361</td>\n",
       "      <td>0.033462</td>\n",
       "      <td>0.013335</td>\n",
       "    </tr>\n",
       "    <tr>\n",
       "      <th>2021-11-09</th>\n",
       "      <td>0.005906</td>\n",
       "      <td>-0.012819</td>\n",
       "      <td>-0.000308</td>\n",
       "      <td>0.002874</td>\n",
       "      <td>0.028469</td>\n",
       "      <td>-0.004580</td>\n",
       "      <td>-0.013505</td>\n",
       "      <td>-0.014028</td>\n",
       "      <td>0.007863</td>\n",
       "      <td>0.016320</td>\n",
       "      <td>-0.001346</td>\n",
       "    </tr>\n",
       "    <tr>\n",
       "      <th>2021-11-10</th>\n",
       "      <td>0.030721</td>\n",
       "      <td>0.001359</td>\n",
       "      <td>-0.012833</td>\n",
       "      <td>-0.001350</td>\n",
       "      <td>0.012953</td>\n",
       "      <td>0.009138</td>\n",
       "      <td>-0.021285</td>\n",
       "      <td>-0.008735</td>\n",
       "      <td>0.011121</td>\n",
       "      <td>0.002156</td>\n",
       "      <td>-0.001500</td>\n",
       "    </tr>\n",
       "    <tr>\n",
       "      <th>2021-11-11</th>\n",
       "      <td>-0.009358</td>\n",
       "      <td>-0.012555</td>\n",
       "      <td>-0.010029</td>\n",
       "      <td>-0.003944</td>\n",
       "      <td>-0.000317</td>\n",
       "      <td>-0.003689</td>\n",
       "      <td>0.007520</td>\n",
       "      <td>-0.007778</td>\n",
       "      <td>0.001822</td>\n",
       "      <td>-0.014396</td>\n",
       "      <td>-0.008002</td>\n",
       "    </tr>\n",
       "    <tr>\n",
       "      <th>2021-11-12</th>\n",
       "      <td>0.020244</td>\n",
       "      <td>0.028401</td>\n",
       "      <td>0.012027</td>\n",
       "      <td>0.026699</td>\n",
       "      <td>0.004042</td>\n",
       "      <td>0.012530</td>\n",
       "      <td>0.005901</td>\n",
       "      <td>0.003536</td>\n",
       "      <td>0.014978</td>\n",
       "      <td>0.007125</td>\n",
       "      <td>0.012739</td>\n",
       "    </tr>\n",
       "  </tbody>\n",
       "</table>\n",
       "<p>1445 rows × 11 columns</p>\n",
       "</div>"
      ],
      "text/plain": [
       "            BHARTIARTL.NS   HDFC.NS  HINDUNILVR.NS   INFY.NS  IPCALAB.NS  \\\n",
       "Date                                                                       \n",
       "2016-01-01            NaN       NaN            NaN       NaN         NaN   \n",
       "2016-01-04      -0.041067 -0.033738       0.002856 -0.024129   -0.014041   \n",
       "2016-01-05      -0.010304 -0.006018      -0.012947 -0.004505   -0.027143   \n",
       "2016-01-06      -0.003872 -0.000083      -0.005795 -0.004386    0.004412   \n",
       "2016-01-07       0.000466 -0.024994      -0.027417 -0.017499   -0.035204   \n",
       "...                   ...       ...            ...       ...         ...   \n",
       "2021-11-08       0.014062  0.028476       0.008486  0.020350   -0.001861   \n",
       "2021-11-09       0.005906 -0.012819      -0.000308  0.002874    0.028469   \n",
       "2021-11-10       0.030721  0.001359      -0.012833 -0.001350    0.012953   \n",
       "2021-11-11      -0.009358 -0.012555      -0.010029 -0.003944   -0.000317   \n",
       "2021-11-12       0.020244  0.028401       0.012027  0.026699    0.004042   \n",
       "\n",
       "              ITC.NS  JSWSTEEL.NS  MARUTI.NS  RELIANCE.NS  TATAMOTORS.NS  \\\n",
       "Date                                                                       \n",
       "2016-01-01       NaN          NaN        NaN          NaN            NaN   \n",
       "2016-01-04 -0.007355     0.017088  -0.012550    -0.019944      -0.063826   \n",
       "2016-01-05 -0.000769     0.036098  -0.002995     0.009848      -0.006919   \n",
       "2016-01-06 -0.030474    -0.023258  -0.019044     0.026556      -0.023098   \n",
       "2016-01-07 -0.017609    -0.030560  -0.048680    -0.018529      -0.063027   \n",
       "...              ...          ...        ...          ...            ...   \n",
       "2021-11-08  0.032507     0.008199  -0.006440     0.007361       0.033462   \n",
       "2021-11-09 -0.004580    -0.013505  -0.014028     0.007863       0.016320   \n",
       "2021-11-10  0.009138    -0.021285  -0.008735     0.011121       0.002156   \n",
       "2021-11-11 -0.003689     0.007520  -0.007778     0.001822      -0.014396   \n",
       "2021-11-12  0.012530     0.005901   0.003536     0.014978       0.007125   \n",
       "\n",
       "               ^NSEI  \n",
       "Date                  \n",
       "2016-01-01       NaN  \n",
       "2016-01-04       NaN  \n",
       "2016-01-05 -0.000854  \n",
       "2016-01-06 -0.005623  \n",
       "2016-01-07 -0.022562  \n",
       "...              ...  \n",
       "2021-11-08  0.013335  \n",
       "2021-11-09 -0.001346  \n",
       "2021-11-10 -0.001500  \n",
       "2021-11-11 -0.008002  \n",
       "2021-11-12  0.012739  \n",
       "\n",
       "[1445 rows x 11 columns]"
      ]
     },
     "execution_count": 23,
     "metadata": {},
     "output_type": "execute_result"
    }
   ],
   "source": [
    "log_returns = np.log(data / data.shift(1))\n",
    "log_returns"
   ]
  },
  {
   "cell_type": "markdown",
   "id": "d418323b",
   "metadata": {},
   "source": [
    "## Calculating Beta of each stock"
   ]
  },
  {
   "attachments": {
    "Screenshot%202021-11-14%20205123.png": {
     "image/png": "[encoded data removed]"
    }
   },
   "cell_type": "markdown",
   "id": "38222710",
   "metadata": {},
   "source": [
    "![Screenshot%202021-11-14%20205123.png](attachment:Screenshot%202021-11-14%20205123.png)"
   ]
  },
  {
   "cell_type": "code",
   "execution_count": 24,
   "id": "472680b6",
   "metadata": {},
   "outputs": [
    {
     "data": {
      "text/plain": [
       "BHARTIARTL.NS    0.000105\n",
       "HDFC.NS          0.000156\n",
       "HINDUNILVR.NS    0.000077\n",
       "INFY.NS          0.000097\n",
       "IPCALAB.NS       0.000048\n",
       "ITC.NS           0.000101\n",
       "JSWSTEEL.NS      0.000164\n",
       "MARUTI.NS        0.000144\n",
       "RELIANCE.NS      0.000136\n",
       "TATAMOTORS.NS    0.000194\n",
       "Name: ^NSEI, dtype: float64"
      ]
     },
     "execution_count": 24,
     "metadata": {},
     "output_type": "execute_result"
    }
   ],
   "source": [
    "covr = log_returns.cov()\n",
    "covr = covr.loc['^NSEI']\n",
    "covr.drop('^NSEI', axis=0, inplace=True)\n",
    "covr"
   ]
  },
  {
   "cell_type": "code",
   "execution_count": 25,
   "id": "a7473352",
   "metadata": {},
   "outputs": [
    {
     "data": {
      "text/plain": [
       "0.0001284811327011529"
      ]
     },
     "execution_count": 25,
     "metadata": {},
     "output_type": "execute_result"
    }
   ],
   "source": [
    "market_var = log_returns['^NSEI'].var()\n",
    "market_var"
   ]
  },
  {
   "cell_type": "code",
   "execution_count": 26,
   "id": "0135b33f",
   "metadata": {},
   "outputs": [
    {
     "data": {
      "text/plain": [
       "BHARTIARTL.NS    0.820768\n",
       "HDFC.NS          1.215205\n",
       "HINDUNILVR.NS    0.601204\n",
       "INFY.NS          0.752785\n",
       "IPCALAB.NS       0.373282\n",
       "ITC.NS           0.783059\n",
       "JSWSTEEL.NS      1.273425\n",
       "MARUTI.NS        1.116996\n",
       "RELIANCE.NS      1.055365\n",
       "TATAMOTORS.NS    1.512344\n",
       "Name: ^NSEI, dtype: float64"
      ]
     },
     "execution_count": 26,
     "metadata": {},
     "output_type": "execute_result"
    }
   ],
   "source": [
    "beta = covr/market_var\n",
    "beta"
   ]
  },
  {
   "cell_type": "markdown",
   "id": "90d53b73",
   "metadata": {},
   "source": [
    "## Calculating Expected Return Using CAPM "
   ]
  },
  {
   "attachments": {
    "Screenshot%202021-11-14%20205308.png": {
     "image/png": "[encoded data removed]"
    }
   },
   "cell_type": "markdown",
   "id": "1d7d0057",
   "metadata": {},
   "source": [
    "![Screenshot%202021-11-14%20205308.png](attachment:Screenshot%202021-11-14%20205308.png)"
   ]
  },
  {
   "cell_type": "code",
   "execution_count": 27,
   "id": "72f14cac",
   "metadata": {},
   "outputs": [
    {
     "data": {
      "text/plain": [
       "BHARTIARTL.NS    0.122812\n",
       "HDFC.NS          0.149634\n",
       "HINDUNILVR.NS    0.107882\n",
       "INFY.NS          0.118189\n",
       "IPCALAB.NS       0.092383\n",
       "ITC.NS           0.120248\n",
       "JSWSTEEL.NS      0.153593\n",
       "MARUTI.NS        0.142956\n",
       "RELIANCE.NS      0.138765\n",
       "TATAMOTORS.NS    0.169839\n",
       "Name: ^NSEI, dtype: float64"
      ]
     },
     "execution_count": 27,
     "metadata": {},
     "output_type": "execute_result"
    }
   ],
   "source": [
    "risk_free_rate = 0.067 \n",
    "risk_premium = 0.068\n",
    "\n",
    "expected_return = risk_free_rate + (beta*risk_premium)\n",
    "expected_return"
   ]
  },
  {
   "cell_type": "code",
   "execution_count": 36,
   "id": "7822ff33",
   "metadata": {},
   "outputs": [
    {
     "data": {
      "image/png": "[encoded data removed]",
      "text/plain": [
       "<Figure size 1080x288 with 1 Axes>"
      ]
     },
     "metadata": {
      "needs_background": "light"
     },
     "output_type": "display_data"
    }
   ],
   "source": [
    "plt.figure(figsize=(15,4))\n",
    "plt.ylabel('Expected Return')\n",
    "plt.bar(ticku, expected_return)\n",
    "plt.show()"
   ]
  },
  {
   "cell_type": "markdown",
   "id": "0e71c92b",
   "metadata": {},
   "source": [
    "## Calculating Sharpe Ratio of Each Stock "
   ]
  },
  {
   "attachments": {
    "WhatsApp%20Image%202021-11-14%20at%208.30.26%20PM.jpeg": {
     "image/jpeg": "[encoded data removed]"
    }
   },
   "cell_type": "markdown",
   "id": "ff466821",
   "metadata": {},
   "source": [
    "![WhatsApp%20Image%202021-11-14%20at%208.30.26%20PM.jpeg](attachment:WhatsApp%20Image%202021-11-14%20at%208.30.26%20PM.jpeg)"
   ]
  },
  {
   "cell_type": "code",
   "execution_count": 38,
   "id": "c98bc151",
   "metadata": {},
   "outputs": [
    {
     "data": {
      "text/plain": [
       "BHARTIARTL.NS    0.166938\n",
       "HDFC.NS          0.279673\n",
       "HINDUNILVR.NS    0.179280\n",
       "INFY.NS          0.186935\n",
       "IPCALAB.NS       0.074279\n",
       "ITC.NS           0.195710\n",
       "JSWSTEEL.NS      0.238188\n",
       "MARUTI.NS        0.248707\n",
       "RELIANCE.NS      0.241155\n",
       "TATAMOTORS.NS    0.214473\n",
       "dtype: float64"
      ]
     },
     "execution_count": 38,
     "metadata": {},
     "output_type": "execute_result"
    }
   ],
   "source": [
    "sharpe = (expected_return - risk_free_rate) / (log_returns.std() *250 **0.5)\n",
    "sharpe.drop('^NSEI', axis=0, inplace=True)\n",
    "sharpe"
   ]
  },
  {
   "cell_type": "code",
   "execution_count": 39,
   "id": "8b9eb371",
   "metadata": {},
   "outputs": [
    {
     "data": {
      "image/png": "[encoded data removed]",
      "text/plain": [
       "<Figure size 1080x288 with 1 Axes>"
      ]
     },
     "metadata": {
      "needs_background": "light"
     },
     "output_type": "display_data"
    }
   ],
   "source": [
    "plt.figure(figsize=(15,4))\n",
    "plt.ylabel('Sharpe Ratio')\n",
    "plt.bar(ticku, sharpe)\n",
    "plt.show()"
   ]
  }
 ],
 "metadata": {
  "kernelspec": {
   "display_name": "Python 3",
   "language": "python",
   "name": "python3"
  },
  "language_info": {
   "codemirror_mode": {
    "name": "ipython",
    "version": 3
   },
   "file_extension": ".py",
   "mimetype": "text/x-python",
   "name": "python",
   "nbconvert_exporter": "python",
   "pygments_lexer": "ipython3",
   "version": "3.8.8"
  }
 },
 "nbformat": 4,
 "nbformat_minor": 5
}
